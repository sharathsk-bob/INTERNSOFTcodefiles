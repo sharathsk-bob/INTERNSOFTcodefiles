{
 "cells": [
  {
   "cell_type": "code",
   "execution_count": 2,
   "metadata": {},
   "outputs": [
    {
     "name": "stderr",
     "output_type": "stream",
     "text": [
      "C:\\Users\\USER\\Anaconda3\\lib\\site-packages\\win_unicode_console\\__init__.py:31: RuntimeWarning: sys.stdin.encoding == 'cp1252', whereas sys.stdout.encoding == 'UTF-8', readline hook consumer may assume they are the same\n",
      "  readline_hook.enable(use_pyreadline=use_pyreadline)\n"
     ]
    }
   ],
   "source": [
    "import os\n",
    "import time\n",
    "import subprocess\n",
    "import instaloader\n",
    "import json"
   ]
  },
  {
   "cell_type": "code",
   "execution_count": 3,
   "metadata": {},
   "outputs": [],
   "source": [
    "import wolframalpha\n",
    "import requests\n",
    "import wikipedia\n",
    "import webbrowser\n",
    "import datetime"
   ]
  },
  {
   "cell_type": "code",
   "execution_count": 4,
   "metadata": {},
   "outputs": [],
   "source": [
    "import speech_recognition as sr\n",
    "import pyttsx3"
   ]
  },
  {
   "cell_type": "code",
   "execution_count": 11,
   "metadata": {},
   "outputs": [
    {
     "name": "stdout",
     "output_type": "stream",
     "text": [
      "Loading your personal A.I. Assistant DragonStone\n"
     ]
    }
   ],
   "source": [
    "print('Loading your personal A.I. Assistant DragonStone')"
   ]
  },
  {
   "cell_type": "code",
   "execution_count": 6,
   "metadata": {},
   "outputs": [],
   "source": [
    "engine=pyttsx3.init('sapi5')\n",
    "voices= engine.getProperty('voices')\n",
    "engine.setProperty(\"voice\",'voices[1].id')"
   ]
  },
  {
   "cell_type": "code",
   "execution_count": 7,
   "metadata": {},
   "outputs": [],
   "source": [
    "def speak(text):\n",
    "    engine.say(text)\n",
    "    engine.runAndWait()"
   ]
  },
  {
   "cell_type": "code",
   "execution_count": 8,
   "metadata": {},
   "outputs": [],
   "source": [
    "def wishMe():\n",
    "    hour = datetime.datetime.now().hour\n",
    "    if hour>=0 and hour<12:\n",
    "        speak('Good Moring Mr. Sharath')\n",
    "        print('Good Moring Mr. Sharath')\n",
    "    elif hour>=12 and hour<18:\n",
    "        speak('Good afternoon Mr. Sharath')\n",
    "        print('Good afternoon Mr. Sharath')\n",
    "    else:\n",
    "        speak('Its bedtime, Go to sleep!!')\n",
    "        print('Its bedtime, Go to sleep!!')"
   ]
  },
  {
   "cell_type": "code",
   "execution_count": 9,
   "metadata": {},
   "outputs": [],
   "source": [
    "def takeCommand():\n",
    "    r =sr.Recognizer()\n",
    "    with sr.Microphone() as source:\n",
    "        print(\"I am listening......\")\n",
    "        audio = r.listen(source,phrase_time_limit = 5)\n",
    "        try:\n",
    "            statement = r.recognize_google(audio,language='hindi')\n",
    "            print(f\"user says:{statement}\\n\")\n",
    "        except:\n",
    "            speak(\"Pardon me , Can you repeat it again?\")\n",
    "            return \"None\"\n",
    "        return statement\n",
    "        "
   ]
  },
  {
   "cell_type": "code",
   "execution_count": 10,
   "metadata": {},
   "outputs": [
    {
     "name": "stdout",
     "output_type": "stream",
     "text": [
      "Good afternoon Mr. Sharath\n",
      "I am listening......\n",
      "user says:can you search for the Deaf\n",
      "\n",
      "I am listening......\n",
      "I am listening......\n",
      "user says:Bezos in Wikipedia\n",
      "\n",
      "Jeffrey Preston Bezos (; né Jorgensen; born January 12, 1964) is an American internet entrepreneur, industrialist, media proprietor, and investor. He is best known as the founder, CEO, and president of the multi-national technology company Amazon. The first centi-billionaire on the Forbes wealth index, Bezos has been the world's richest person since 2017 and was named the \"richest man in modern history\" after his net worth increased to $150 billion in July 2018.\n",
      "I am listening......\n",
      "user says:can you open YouTube\n",
      "\n",
      "I am listening......\n",
      "user says:can you open Gmail\n",
      "\n",
      "I am listening......\n",
      "user says:Google\n",
      "\n",
      "I am listening......\n",
      "user says:open Google\n",
      "\n",
      "I am listening......\n",
      "user says:who are you\n",
      "\n",
      "I am listening......\n",
      "user says:who created you\n",
      "\n",
      "I am listening......\n",
      "user says:can you open the news for me news\n",
      "\n",
      "I am listening......\n",
      "user says:can I ask you something\n",
      "\n",
      "I am listening......\n",
      "user says:who is the president of USA\n",
      "\n",
      "Donald Trump (from 20/01/2017 to present)\n",
      "I am listening......\n",
      "user says:can I download an Instagram profile pic\n",
      "\n",
      "shask__235\n",
      "shask__235\\2020-04-19_20-58-36_UTC_profile_pic.jpg \n",
      "I am listening......\n",
      "user says:stop stop stop Dragonstone.\n",
      "\n",
      "Dragonstone is shutting down, Good bye sir!!\n"
     ]
    }
   ],
   "source": [
    "speak('Loading your personal A.I. Assistant Dragonstone ')\n",
    "wishMe()\n",
    "if __name__ == '__main__':\n",
    "    while True:\n",
    "        speak('How can i help you')\n",
    "        statement = takeCommand().lower()\n",
    "        if statement==0:\n",
    "            continue\n",
    "            \n",
    "        if \"good bye\" in statement or \"ok bye\" in statement or \"stop\" in statement:\n",
    "            speak(\"Dragonstone is shutting down, Good bye sir!!\")\n",
    "            print(\"Dragonstone is shutting down, Good bye sir!!\")\n",
    "            break\n",
    "        if \"wikipedia\" in statement:\n",
    "            speak(\"searching wikipedia.....\")\n",
    "            statement=statement.replace(\"wikipedia\",\" \")\n",
    "            results=wikipedia.summary(statement, sentences=3 )\n",
    "            speak(\"According to wikipedia....\")\n",
    "            print(results)\n",
    "            speak(results)\n",
    "            \n",
    "        elif \"open youtube\" in statement:\n",
    "            webbrowser.open_new_tab(\"http://www.youtube.com\")\n",
    "            speak(\"youtube is open for you\")\n",
    "            time.sleep(5)\n",
    "        elif \"open google\" in statement:\n",
    "            webbrowser.open_new_tab(\"http://www.google.com\")\n",
    "            speak(\"google is open for you\")\n",
    "            time.sleep(5)\n",
    "        elif \"open gmail\" in statement:\n",
    "            webbrowser.open_new_tab(\"gmail.com\")\n",
    "            speak(\"gmail is open for you\")\n",
    "            time.sleep(5)\n",
    "        elif \"weather\" in statement:\n",
    "            api_key=\"8ef61edcf1c576d65d836254e11ea420\"\n",
    "            base_url=\"https://api.openweathermap.org/data/2.5/weather?”\"\n",
    "            speak(\"what is your city name?\")\n",
    "            city_name = takeCommand()\n",
    "            complete_url= base_url + \"appid\" + api_key + \"&q=\" + city_name\n",
    "            responce= requests.get(complete_url)\n",
    "            x=responce.json()\n",
    "            if x[\"cod\"] != \"404\":\n",
    "                y=x[\"main\"]\n",
    "                current_temperature=y[\"temp\"]\n",
    "                current_humidity=y[\"humidity\"]\n",
    "                z=x[\"weather\"]\n",
    "                weather_description = z[0][\"description\"]\n",
    "                speak(\"the temperature in kelvin is\" + str(current_temperature) + \"\\n humidity in percentage is\" + str(current_humidity) +\"\\n weather description\" + str(weather_description))\n",
    "                print(\"the temperature in kelvin is\" + str(current_temperature) + \"\\n humidity in percentage is\" + str(current_humidity) +\"\\n weather description\" + str(weather_description))\n",
    "            else:\n",
    "                speak(\"city not found\")\n",
    "                print(\"city not found\")\n",
    "                      \n",
    "        elif \"time\" in statement:\n",
    "            strtime = datetime.datetime.now().strftime(\"%H:%M:%S\") \n",
    "            speak(f\"time is {strtime}\")\n",
    "        elif \"who are you\" in statement or \"what can you do\" in statement:\n",
    "            speak(\"HI!! I am DragonStone version 1 point 15 your personal assistant, I am capable of performing tasks that typically require human intelligence.I am also way Smarter than you!!! hahahahahaha\")\n",
    "        elif \"who made you\" in statement or \"who created you\" in statement or \"who discovered you\" in statement:\n",
    "            speak(\" I was built by Sharath Sashi kumar \")\n",
    "        elif \"open stackoverflow\" in statement:\n",
    "            webbrowser.open_new_tab(\"http://stackoverflow.com/login\")\n",
    "            time.sleep(5)\n",
    "        elif \"news\" in statement:\n",
    "            webbrowser.open_new_tab(\"https://www.indiatoday.in\")\n",
    "            speak(\"here are some headlines happy reading!!\")\n",
    "        elif \"search\" in statement:\n",
    "            statement=statement.replace(\"search\",\" \")\n",
    "            webbrowser.open_new_tab(statement)\n",
    "            time.sleep(7)\n",
    "        elif \"ask\" in statement:\n",
    "            speak(\"I can answer computational and geographical questions too try me!! what do you want to know?\")\n",
    "            questions=takeCommand()\n",
    "            app_id=\"R2K75H-7ELALHR35X\"\n",
    "            client= wolframalpha.Client('R2K75H-7ELALHR35X')\n",
    "            res =client.query(questions)\n",
    "            answer=next(res.results).text\n",
    "            speak(answer)\n",
    "            print(answer)\n",
    "        elif \"log off\" in statement or \"sign out\" in statement or \"shutdown\" in statement:\n",
    "            speak(\"ok, your pc is now going to shutdown in 10 seconds make sure you save and exit from all your applications\")\n",
    "            subprocess.call(['shutdown',\"/l\"])\n",
    "        elif \"profile pic\" in statement:\n",
    "            speak(\"enter your username\")\n",
    "            l= instaloader.Instaloader()\n",
    "            user_name=input()\n",
    "            try:\n",
    "                profile = instaloader.Profile.from_username(l.context, user_name)\n",
    "                l.download_profile(profile)\n",
    "                speak(\"profile picture is downloaded sir you can go to ur directory and check it\")\n",
    "            except:\n",
    "                speak(\"Ohhh i see,...looks like the account is private ,..however your profile pic is downloaded,...check it in your directory\")\n",
    "            \n",
    "            \n",
    "time.sleep(3)"
   ]
  },
  {
   "cell_type": "code",
   "execution_count": null,
   "metadata": {},
   "outputs": [],
   "source": []
  },
  {
   "cell_type": "code",
   "execution_count": null,
   "metadata": {},
   "outputs": [],
   "source": []
  }
 ],
 "metadata": {
  "kernelspec": {
   "display_name": "Python 3",
   "language": "python",
   "name": "python3"
  },
  "language_info": {
   "codemirror_mode": {
    "name": "ipython",
    "version": 3
   },
   "file_extension": ".py",
   "mimetype": "text/x-python",
   "name": "python",
   "nbconvert_exporter": "python",
   "pygments_lexer": "ipython3",
   "version": "3.7.3"
  }
 },
 "nbformat": 4,
 "nbformat_minor": 2
}
